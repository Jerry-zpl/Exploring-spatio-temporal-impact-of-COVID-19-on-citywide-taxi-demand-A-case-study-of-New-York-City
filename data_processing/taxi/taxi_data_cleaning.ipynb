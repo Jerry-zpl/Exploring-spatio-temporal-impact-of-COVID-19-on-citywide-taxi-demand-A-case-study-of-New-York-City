{
 "cells": [
  {
   "cell_type": "code",
   "execution_count": 1,
   "id": "693d6e9f",
   "metadata": {},
   "outputs": [],
   "source": [
    "import pandas as pd"
   ]
  },
  {
   "cell_type": "markdown",
   "id": "d5d0d5ca",
   "metadata": {},
   "source": [
    "# Loading Data"
   ]
  },
  {
   "cell_type": "code",
   "execution_count": 2,
   "id": "9de5734c",
   "metadata": {},
   "outputs": [
    {
     "name": "stderr",
     "output_type": "stream",
     "text": [
      "C:\\Anaconda\\lib\\site-packages\\IPython\\core\\interactiveshell.py:3165: DtypeWarning: Columns (6) have mixed types.Specify dtype option on import or set low_memory=False.\n",
      "  has_raised = await self.run_ast_nodes(code_ast.body, cell_name,\n"
     ]
    }
   ],
   "source": [
    "data202008 = pd.read_csv(\"data\\\\taxi\\\\yellow_tripdata_2020-08.csv\")\n",
    "data202009 = pd.read_csv(\"data\\\\taxi\\\\yellow_tripdata_2020-09.csv\")\n",
    "data202010 = pd.read_csv(\"data\\\\taxi\\\\yellow_tripdata_2020-10.csv\")\n",
    "data202011 = pd.read_csv(\"data\\\\taxi\\\\yellow_tripdata_2020-11.csv\")\n",
    "data202012 = pd.read_csv(\"data\\\\taxi\\\\yellow_tripdata_2020-12.csv\")\n",
    "data202101 = pd.read_csv(\"data\\\\taxi\\\\yellow_tripdata_2021-01.csv\")\n",
    "data202102 = pd.read_csv(\"data\\\\taxi\\\\yellow_tripdata_2021-02.csv\")\n",
    "data202103 = pd.read_csv(\"data\\\\taxi\\\\yellow_tripdata_2021-03.csv\")\n",
    "data202104 = pd.read_csv(\"data\\\\taxi\\\\yellow_tripdata_2021-04.csv\")\n",
    "data202105 = pd.read_csv(\"data\\\\taxi\\\\yellow_tripdata_2021-05.csv\")\n",
    "data202106 = pd.read_csv(\"data\\\\taxi\\\\yellow_tripdata_2021-06.csv\")\n",
    "data202107 = pd.read_csv(\"data\\\\taxi\\\\yellow_tripdata_2021-07.csv\")\n",
    "\n",
    "data = pd.concat([data202008, data202009, data202010, data202011, data202012, data202101, data202102, \n",
    "                 data202103, data202104, data202105, data202106, data202107], axis=0, ignore_index = True)\n",
    "\n",
    "data = data.drop(['tpep_dropoff_datetime','DOLocationID','VendorID','passenger_count','trip_distance','RatecodeID',\n",
    "                  'store_and_fwd_flag','payment_type','fare_amount','extra','mta_tax','tip_amount','tolls_amount',\n",
    "                  'improvement_surcharge','total_amount','congestion_surcharge'],axis=1)\n",
    "\n",
    "data = data.rename(columns={'tpep_pickup_datetime':'pickup_datetime'})"
   ]
  },
  {
   "cell_type": "markdown",
   "id": "06cfc781",
   "metadata": {},
   "source": [
    "# Outlier handling"
   ]
  },
  {
   "cell_type": "markdown",
   "id": "bd654fd2",
   "metadata": {},
   "source": [
    "## Missing value handling"
   ]
  },
  {
   "cell_type": "code",
   "execution_count": 3,
   "id": "d9181774",
   "metadata": {},
   "outputs": [
    {
     "name": "stdout",
     "output_type": "stream",
     "text": [
      "Empty DataFrame\n",
      "Columns: [pickup_datetime, PULocationID]\n",
      "Index: []\n"
     ]
    }
   ],
   "source": [
    "print(data[data.isnull().values==True])"
   ]
  },
  {
   "cell_type": "markdown",
   "id": "c47c390b",
   "metadata": {},
   "source": [
    "## Time outlier handling"
   ]
  },
  {
   "cell_type": "code",
   "execution_count": 4,
   "id": "82f70387",
   "metadata": {},
   "outputs": [],
   "source": [
    "data[\"pickup_datetime\"] = pd.to_datetime(data[\"pickup_datetime\"])\n",
    "data = data[(data[\"pickup_datetime\"] >= pd.to_datetime('20200801')) & (data[\"pickup_datetime\"] <= pd.to_datetime('20210801'))]"
   ]
  },
  {
   "cell_type": "markdown",
   "id": "dcbf0fe4",
   "metadata": {},
   "source": [
    "# Data output"
   ]
  },
  {
   "cell_type": "code",
   "execution_count": 5,
   "id": "56145e1d",
   "metadata": {},
   "outputs": [],
   "source": [
    "data.to_csv(r'data\\\\taxi\\\\data.csv',index=False,sep=',')"
   ]
  },
  {
   "cell_type": "code",
   "execution_count": null,
   "id": "4db915dc",
   "metadata": {},
   "outputs": [],
   "source": []
  }
 ],
 "metadata": {
  "kernelspec": {
   "display_name": "Python 3",
   "language": "python",
   "name": "python3"
  },
  "language_info": {
   "codemirror_mode": {
    "name": "ipython",
    "version": 3
   },
   "file_extension": ".py",
   "mimetype": "text/x-python",
   "name": "python",
   "nbconvert_exporter": "python",
   "pygments_lexer": "ipython3",
   "version": "3.8.8"
  }
 },
 "nbformat": 4,
 "nbformat_minor": 5
}
